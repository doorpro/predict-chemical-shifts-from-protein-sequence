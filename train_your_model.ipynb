{
 "cells": [
  {
   "cell_type": "code",
   "execution_count": 2,
   "metadata": {},
   "outputs": [],
   "source": [
    "import torch\n",
    "import esm\n",
    "from torch.utils.data import TensorDataset\n",
    "from utils import extract_protein_sequence, refdb_find_shift, refdb_get_cs_seq, refdb_get_shift_re, refdb_get_seq\n",
    "from utils import align_bmrb_pdb\n",
    "import os\n",
    "import math\n",
    "from torch.utils.data import DataLoader\n",
    "from model import regression\n",
    "from torch.utils.data import random_split\n",
    "import argparse\n",
    "import numpy as np\n",
    "import pandas as pd"
   ]
  },
  {
   "cell_type": "markdown",
   "metadata": {},
   "source": [
    "### Data process\n",
    "In the data processing process, the esm model is used in advance to convert the sequence to embeddings and saved as tensordataset"
   ]
  },
  {
   "cell_type": "markdown",
   "metadata": {},
   "source": [
    "Load the esm2 model"
   ]
  },
  {
   "cell_type": "code",
   "execution_count": 3,
   "metadata": {},
   "outputs": [
    {
     "name": "stderr",
     "output_type": "stream",
     "text": [
      "Downloading: \"https://dl.fbaipublicfiles.com/fair-esm/models/esm2_t33_650M_UR50D.pt\" to C:\\Users\\22609/.cache\\torch\\hub\\checkpoints\\esm2_t33_650M_UR50D.pt\n"
     ]
    }
   ],
   "source": [
    "esm_model, alphabet = esm.pretrained.esm2_t33_650M_UR50D()\n",
    "batch_converter = alphabet.get_batch_converter()\n",
    "esm_model.eval()"
   ]
  },
  {
   "cell_type": "code",
   "execution_count": null,
   "metadata": {},
   "outputs": [],
   "source": [
    "def data_process(refdb_path, save_path, atom_type):\n",
    "    all_esm_vec = torch.zeros(1, 512, 1280)\n",
    "    all_label = torch.zeros((1, 512))\n",
    "    all_mask = torch.zeros((1, 512)).bool()\n",
    "    all_padding_mask = torch.zeros((1, 512)).bool()\n",
    "    for root, directories, files in os.walk(refdb_path):\n",
    "        for file in files:\n",
    "            file_path =str(file.split(\".\")[0])\n",
    "            bmrb_seq_list = extract_protein_sequence(file_path)\n",
    "            s, e = refdb_find_shift(file_path)\n",
    "            cs_seq = refdb_get_cs_seq(file_path, s, e)\n",
    "            matched = align_bmrb_pdb(bmrb_seq, cs_seq)\n",
    "            shift, mask = refdb_get_shift_re(file_path, s, e, bmrb_seq, matched, atom_type)\n",
    "            for i, bmrb_seq in enumerate(bmrb_seq_list):\n",
    "                if '_' not in bmrb_seq and 0<len(bmrb_seq) < 512:\n",
    "                    data = [(\"protein1\", bmrb_seq_list[i])]\n",
    "                    batch_labels, batch_strs, batch_tokens = batch_converter(data)\n",
    "                    with torch.no_grad():\n",
    "                        results = esm_model(batch_tokens, repr_layers=[33], return_contacts=True)\n",
    "                    token_representations = results[\"representations\"][33]\n",
    "                    embedding = token_representations[:, 1:-1, :].squeeze()\n",
    "                    embedding = torch.nn.functional.pad(embedding, (0, 0, 0, 512 - embedding.shape[0]))\n",
    "                    # padding the size of tensor from \"res*1280\" to 512*1280\n",
    "                    label = torch.tensor(shift[i])\n",
    "                    padding_mask = torch.zeros(512).bool()\n",
    "                    padding_mask[:label.shape[0]] = True\n",
    "                    label = torch.nn.functional.pad(label, (0, 512-label.shape[0]))\n",
    "                    # padding the size of tensor from \"res\" to 512\n",
    "                    mask = torch.tensor(mask[i])\n",
    "                    mask = torch.nn.functional.pad(mask, (0, 512-mask.shape[0]), value=False)\n",
    "                    if not torch.all(mask.eq(False)):\n",
    "                        all_esm_vec = torch.cat((all_esm_vec, embedding.unsqueeze(0)), dim=0)\n",
    "                        all_label = torch.cat((all_label, label.unsqueeze(0)), dim=0)\n",
    "                        all_mask = torch.cat((all_mask, mask.unsqueeze(0)), dim=0)\n",
    "                        all_padding_mask = torch.cat((all_padding_mask, padding_mask.unsqueeze(0)), dim=0)\n",
    "        all_esm_vec = all_esm_vec[1:, :, :]\n",
    "        all_label = all_label[1:, :]\n",
    "        all_mask = all_mask[1:, :]\n",
    "        all_padding_mask = all_padding_mask[1:, :]\n",
    "        dataset = TensorDataset(all_esm_vec, all_label, all_mask, all_padding_mask)\n",
    "        torch.save(dataset, save_path)\n",
    "        print(\"Data saved successfully, size of dataset is: \", all_esm_vec.shape)"
   ]
  },
  {
   "cell_type": "markdown",
   "metadata": {},
   "source": [
    "Create the tensordatasets of 6 atom types"
   ]
  },
  {
   "cell_type": "code",
   "execution_count": null,
   "metadata": {},
   "outputs": [],
   "source": [
    "from utils import extract_protein_sequence, refdb_find_shift, refdb_get_cs_seq, refdb_get_shift_re\n",
    "from utils import align_bmrb_pdb\n",
    "import os\n",
    "atom_types = [\"CA\",\"CB\",\"C\",\"N\",\"H\",\"HA\"]\n",
    "refdb = \"\\dateset\\RefDB_test_remove\"\n",
    "save_path = \"./dataset/tensordataset/\"\n",
    "for atom_type in atom_types:\n",
    "    data_path = save_path + atom_type + \".pt\"\n",
    "    data_process(refdb, save_path, atom_type)"
   ]
  },
  {
   "cell_type": "markdown",
   "metadata": {},
   "source": [
    "### Train"
   ]
  },
  {
   "cell_type": "markdown",
   "metadata": {},
   "source": [
    "Set random seeds"
   ]
  },
  {
   "cell_type": "code",
   "execution_count": null,
   "metadata": {},
   "outputs": [],
   "source": [
    "seed = 42\n",
    "torch.manual_seed(seed)\n",
    "torch.cuda.manual_seed(seed)\n",
    "torch.cuda.manual_seed_all(seed)\n",
    "# if you are using multi-GPU, you can use torch.cuda.manual_seed_all(seed) to set all seeds.\n",
    "torch.backends.cudnn.benchmark = False\n",
    "torch.backends.cudnn.deterministic = True"
   ]
  },
  {
   "cell_type": "markdown",
   "metadata": {},
   "source": [
    "Set hyperparameters"
   ]
  },
  {
   "cell_type": "code",
   "execution_count": null,
   "metadata": {},
   "outputs": [],
   "source": [
    "parser = argparse.ArgumentParser()\n",
    "\n",
    "parser.add_argument('--batchsize', type=int, default=16, help='Batch size for training')\n",
    "parser.add_argument('--N', type=int, default=6, help='number of encoder')\n",
    "parser.add_argument('--dropout', type=float, default=0.1, help='dropout')\n",
    "parser.add_argument('--d_model', type=int, default=512, help='qkv d-model dimension')\n",
    "parser.add_argument('--d_vec', type=int, default=1280, help='amino embedding dimension')\n",
    "parser.add_argument('--n_head', type=int, default=8, help='number of attention heads')\n",
    "parser.add_argument('--shuffle', type=bool, default=False, help='shuffle dataset')\n",
    "parser.add_argument('--epoch', type=int, default=20000, help='epoch time')\n",
    "parser.add_argument('--lr', type=float, default=5e-4, help='learning rate')\n",
    "parser.add_argument('--device', type=str, default=\"cuda:0\", help='learning rate')\n",
    "# If you have cuda devices\n",
    "args = parser.parse_args()"
   ]
  },
  {
   "cell_type": "code",
   "execution_count": null,
   "metadata": {},
   "outputs": [],
   "source": [
    "def main(data, save_path):\n",
    "    model = regression(args.d_vec, args.d_model, args.n_head, args.dropout)\n",
    "    device = torch.device(args.device)\n",
    "    train_loss_all = []\n",
    "    val_loss_all = []\n",
    "    optimizer = torch.optim.Adam(model.parameters(), lr=args.lr, betas=(0.9, 0.99), eps=1e-8,\n",
    "                                   weight_decay=0)\n",
    "    # optimizer = torch.optim.SGD(model.parameters(), lr=0.01, momentum=0.9)\n",
    "    optimizer.zero_grad()\n",
    "    loss_func = torch.nn.MSELoss()\n",
    "    model.to(device)\n",
    "    def init_weights1(model):\n",
    "        if isinstance(model, torch.nn.Linear):\n",
    "            torch.nn.init.kaiming_uniform(model.weight)\n",
    "\n",
    "    def init_weights_kaiming(model):\n",
    "        if hasattr(model, 'weight') and model.weight.dim() > 1:\n",
    "            torch.nn.init.kaiming_uniform(model.weight.data)\n",
    "\n",
    "    def init_weights_xavier(model):\n",
    "        if isinstance(model, torch.nn.MultiheadAttention):\n",
    "            torch.nn.init.xavier_uniform_(model.in_proj_weight)\n",
    "            torch.nn.init.xavier_uniform_(model.out_proj.weight)\n",
    "\n",
    "    model.apply(init_weights1)\n",
    "    train_size = int(len(data) * 1)\n",
    "    val_size = len(data) - train_size\n",
    "    train_dataset, val_dataset = random_split(data, [train_size, val_size])\n",
    "    traindata_loader = DataLoader(train_dataset, batch_size=args.batchsize, shuffle=True)\n",
    "    valdata_loader = DataLoader(val_dataset, batch_size=args.batchsize, shuffle=True)\n",
    "\n",
    "    def train(epoch):\n",
    "        model.train()\n",
    "        epoch_loss = 0\n",
    "        all_CA = 0\n",
    "        for i, batch in enumerate(traindata_loader):\n",
    "            mask, label, seq_vec, padding_mask = batch[2], batch[1], batch[0], batch[3]\n",
    "            mask = mask.to(device)\n",
    "            label = label.to(device)\n",
    "            seq_vec = seq_vec.to(device)\n",
    "            padding_mask = padding_mask.to(device)\n",
    "            out = model(seq_vec, padding_mask)\n",
    "            loss = torch.sqrt(loss_func(out.squeeze(2)[mask], label[mask]))\n",
    "            # out, log_sigma = model(seq_vec, padding_mask)\n",
    "            # sigma_normal = torch.sqrt(torch.mean(0.5*(torch.exp((-1)*log_sigma)) * (out.squeeze(2)[mask] - label[mask])**2 + 0.5*log_sigma))\n",
    "            all_CA += label[mask].shape[0]\n",
    "            optimizer.zero_grad()\n",
    "            loss.backward()\n",
    "            optimizer.step()\n",
    "            mse = loss ** 2 * label[mask].shape[0]\n",
    "            epoch_loss += mse.detach().item()\n",
    "        return (epoch_loss / all_CA)\n",
    "\n",
    "    def val(epoch):\n",
    "        # model.train()\n",
    "        epoch_loss = 0\n",
    "        all_CA = 0\n",
    "        for i, batch in enumerate(valdata_loader):\n",
    "            mask, label, seq_vec, padding_mask = batch[2], batch[1], batch[0], batch[3]\n",
    "            mask = mask.to(device)\n",
    "            label = label.to(device)\n",
    "            seq_vec = seq_vec.to(device)\n",
    "            padding_mask = padding_mask.to(device)\n",
    "            out = model(seq_vec, padding_mask)\n",
    "            loss = loss_func(out.squeeze(2)[mask], label[mask])\n",
    "            all_CA += label[mask].shape[0]\n",
    "            loss = loss * label[mask].shape[0]\n",
    "            epoch_loss += loss.item()\n",
    "            rmse = math.sqrt(epoch_loss / all_CA)\n",
    "        return rmse\n",
    "\n",
    "    best_acc = 1.8\n",
    "    for epoch in range(0, args.epoch):\n",
    "        train_loss = train(epoch)\n",
    "        val_loss = val(epoch)\n",
    "        print(f'\\tepoch{epoch:.3f}Train Loss: {train_loss:.3f} | val_rmse: {val_loss:7.3f}')\n",
    "        train_loss_all.append(train_loss)\n",
    "        val_loss_all.append(val_loss)\n",
    "\n",
    "        if val_loss<best_acc:\n",
    "            sp = save_path + f\"epoch{epoch}_val{val_loss:.3f}.pth\"\n",
    "            state = {\n",
    "                \"epoch\": epoch,\n",
    "                \"accuracy\": val_loss,\n",
    "                \"model_state_dict\": model.state_dict(),\n",
    "                \"optimizer_state_dict\": optimizer.state_dict()\n",
    "            }\n",
    "            torch.save(state, sp)\n",
    "            best_acc = val_loss"
   ]
  },
  {
   "cell_type": "markdown",
   "metadata": {},
   "source": [
    "Train the models of six atom types separately"
   ]
  },
  {
   "cell_type": "code",
   "execution_count": null,
   "metadata": {},
   "outputs": [],
   "source": [
    "atom_types = [\"CA\", \"CB\", \"C\", \"N\", \"H\", \"HA\"]\n",
    "for atom_type in atom_types:\n",
    "    save_path = \"./dataset/your_model_ckpt/\"+atom_type+\".pt\"\n",
    "    data = np.load(\"./dataset/tensordataset/\"+atom_type+\".pt\", allow_pickle=True)\n",
    "    main(data, save_path)"
   ]
  },
  {
   "cell_type": "markdown",
   "metadata": {},
   "source": [
    "### Evaluate"
   ]
  },
  {
   "cell_type": "markdown",
   "metadata": {},
   "source": [
    "The example of evaluating proteins in the shiftx test set"
   ]
  },
  {
   "cell_type": "code",
   "execution_count": null,
   "metadata": {},
   "outputs": [],
   "source": [
    "def single_test(file_path, atom_types):\n",
    "    bmrb_seq = refdb_get_seq(file_path)\n",
    "    s, e = refdb_find_shift(file_path)\n",
    "    cs_seq = refdb_get_cs_seq(file_path, s, e)\n",
    "    matched = align_bmrb_pdb(bmrb_seq, cs_seq)\n",
    "    shift, mask = refdb_get_shift_re(file_path, s, e, bmrb_seq, matched, atom_type)\n",
    "    six_rmse = []\n",
    "    if '_' not in bmrb_seq:\n",
    "        df = {'CA_label':[], 'CA_pred':[], 'CB_label':[], 'CB_pred':[], 'C_label':[], 'C_pred':[], 'N_label':[], 'N_pred':[], 'HA_label':[], 'HA_pred':[], 'H_label':[], 'H_pred':[], }\n",
    "        for atom_type in atom_types:\n",
    "            shift, mask = refdb_get_shift_re(file_path, s, e, bmrb_seq, matched, atom_type)\n",
    "            label= torch.tensor(shift)\n",
    "            mask = torch.tensor(mask)\n",
    "            label = torch.nn.functional.pad(label, (0, 512-label.shape[0]))\n",
    "            data = [(\"protein1\", bmrb_seq)]\n",
    "            batch_labels, batch_strs, batch_tokens = batch_converter(data)\n",
    "            with torch.no_grad():\n",
    "                results = esm_model(batch_tokens, repr_layers=[33], return_contacts=False)\n",
    "            token_representations = results[\"representations\"][33]\n",
    "            embedding = token_representations[:, 1:-1, :].squeeze()\n",
    "            padding_mask = torch.zeros(512).bool()\n",
    "            padding_mask[:embedding.shape[0]] = True\n",
    "            embedding = torch.nn.functional.pad(embedding, (0, 0, 0, 512 - embedding.shape[0]))\n",
    "            mask = torch.nn.functional.pad(mask, (0, 512 - mask.shape[0]), value=False)\n",
    "            model = regression(1280, 512, 8, 0.1)\n",
    "            # model = classification(1280, 512, 8, 0.1)\n",
    "            padding_mask = padding_mask.unsqueeze(0)\n",
    "            model.load_state_dict(\n",
    "                torch.load(\"./dataset/your_model_ckpt/\"+atom_type+\".pt\", map_location=torch.device('cpu')))\n",
    "            model.eval()\n",
    "            out = model(embedding.unsqueeze(0), padding_mask)\n",
    "            loss_func = torch.nn.MSELoss()\n",
    "            loss = loss_func(out.squeeze(2).squeeze(0)[mask], label[mask])\n",
    "            rmse = math.sqrt(loss.item())\n",
    "            a = out.squeeze(2).squeeze(0).detach().numpy()\n",
    "            b = label.detach().numpy()\n",
    "            df[atom_type+'_pred'] = a\n",
    "            df[atom_type+'_label']= b\n",
    "            print(file_path + atom_type+\" Inference finished, rmse is: \", rmse)\n",
    "            six_rmse.append(rmse)\n",
    "    df = pd.DataFrame(df)\n",
    "    df.to_csv(\"./result/\"+str(file_path)+\".csv\")\n",
    "    return six_rmse"
   ]
  },
  {
   "cell_type": "markdown",
   "metadata": {},
   "source": [
    "Test each shiftx file"
   ]
  },
  {
   "cell_type": "code",
   "execution_count": null,
   "metadata": {},
   "outputs": [],
   "source": [
    "all_ca_rmse = []\n",
    "all_cb_rmse = []\n",
    "all_c_rmse = []\n",
    "all_n_rmse = []\n",
    "all_ha_rmse = []\n",
    "all_h_rmse = []\n",
    "for root, directories, files in os.walk(\"./dataset/shiftx_test_set\"):\n",
    "    for file in files:\n",
    "        file_path = \"./dataset/shiftx_test_set\" + str(file)\n",
    "        six_rmse = single_test(file_path, atom_types)\n",
    "        all_ca_rmse.append(six_rmse[0])\n",
    "        all_cb_rmse.append(six_rmse[1])\n",
    "        all_c_rmse.append(six_rmse[2])\n",
    "        all_n_rmse.append(six_rmse[3])\n",
    "        all_ha_rmse.append(six_rmse[4])\n",
    "        all_h_rmse.append(six_rmse[5])\n",
    "print(\"CA_rmse: \", np.mean(all_ca_rmse))\n",
    "print(\"CB_rmse: \", np.mean(all_cb_rmse))\n",
    "print(\"C_rmse: \", np.mean(all_c_rmse))\n",
    "print(\"N_rmse: \", np.mean(all_n_rmse))\n",
    "print(\"HA_rmse: \", np.mean(all_ha_rmse))\n",
    "print(\"H_rmse: \", np.mean(all_h_rmse))"
   ]
  }
 ],
 "metadata": {
  "kernelspec": {
   "display_name": "pytorch",
   "language": "python",
   "name": "python3"
  },
  "language_info": {
   "codemirror_mode": {
    "name": "ipython",
    "version": 3
   },
   "file_extension": ".py",
   "mimetype": "text/x-python",
   "name": "python",
   "nbconvert_exporter": "python",
   "pygments_lexer": "ipython3",
   "version": "3.10.14"
  }
 },
 "nbformat": 4,
 "nbformat_minor": 2
}
